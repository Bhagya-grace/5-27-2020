{
 "cells": [
  {
   "cell_type": "code",
   "execution_count": null,
   "metadata": {},
   "outputs": [],
   "source": [
    "# Introduction to Function"
   ]
  },
  {
   "cell_type": "code",
   "execution_count": 11,
   "metadata": {},
   "outputs": [],
   "source": [
    "def greet_user():\n",
    "    \"\"\"Bhagya\"\"\"\n",
    "    print('How are you')"
   ]
  },
  {
   "cell_type": "code",
   "execution_count": 12,
   "metadata": {},
   "outputs": [
    {
     "name": "stdout",
     "output_type": "stream",
     "text": [
      "How are you\n"
     ]
    }
   ],
   "source": [
    "greet_user()"
   ]
  },
  {
   "cell_type": "code",
   "execution_count": null,
   "metadata": {},
   "outputs": [],
   "source": [
    "# enchancement"
   ]
  },
  {
   "cell_type": "code",
   "execution_count": 28,
   "metadata": {},
   "outputs": [],
   "source": [
    "def greet_user(username):# passing a `parameter to a function\n",
    "    \"\"\"Bhagya\"\"\"# doc string # commenting inside the function\n",
    "    print(f\"{username},welcome back to Moulali.\") #Defining a function"
   ]
  },
  {
   "cell_type": "code",
   "execution_count": 29,
   "metadata": {},
   "outputs": [
    {
     "name": "stdout",
     "output_type": "stream",
     "text": [
      "Hi Ravi,welcome back to Moulali.\n"
     ]
    }
   ],
   "source": [
    "greet_user('Hi Ravi')"
   ]
  },
  {
   "cell_type": "code",
   "execution_count": 30,
   "metadata": {},
   "outputs": [
    {
     "name": "stdout",
     "output_type": "stream",
     "text": [
      "Hi Bhagya,welcome back to Moulali.\n"
     ]
    }
   ],
   "source": [
    "greet_user('Hi Bhagya')"
   ]
  },
  {
   "cell_type": "code",
   "execution_count": 31,
   "metadata": {},
   "outputs": [],
   "source": [
    "def student(name):\n",
    "    \"\"\"Ravi\"\"\"\n",
    "    print(f\"{name}, welcome to AUS.\")"
   ]
  },
  {
   "cell_type": "code",
   "execution_count": 32,
   "metadata": {},
   "outputs": [
    {
     "name": "stdout",
     "output_type": "stream",
     "text": [
      "Hi Bhagya, welcome to AUS.\n"
     ]
    }
   ],
   "source": [
    "student(\"Hi Bhagya\")"
   ]
  },
  {
   "cell_type": "code",
   "execution_count": 53,
   "metadata": {},
   "outputs": [],
   "source": [
    "def describe_pet (Animal_type,pet_name):\n",
    "    \"\"\"A simple approch to describe a pet\"\"\"\n",
    "    print(f\"I have a {Animal_type}\")\n",
    "    print(f\"my {Animal_type}'s name is {pet_name}\")"
   ]
  },
  {
   "cell_type": "code",
   "execution_count": 54,
   "metadata": {},
   "outputs": [
    {
     "name": "stdout",
     "output_type": "stream",
     "text": [
      "I have a dog\n",
      "my dog's name is rex\n"
     ]
    }
   ],
   "source": [
    "describe_pet ('dog','rex')"
   ]
  },
  {
   "cell_type": "code",
   "execution_count": 63,
   "metadata": {},
   "outputs": [],
   "source": [
    "def fav_dish(party,dish_name):\n",
    "    \"\"\"A simple way to describe a favourie dish\"\"\"\n",
    "    print(f\"i have a birthday {party}\")\n",
    "    print(f\" my {party} is {dish_name}\")"
   ]
  },
  {
   "cell_type": "code",
   "execution_count": 64,
   "metadata": {},
   "outputs": [
    {
     "name": "stdout",
     "output_type": "stream",
     "text": [
      "i have a birthday party\n",
      " my party is biryani\n"
     ]
    }
   ],
   "source": [
    "fav_dish ('party','biryani')"
   ]
  },
  {
   "cell_type": "code",
   "execution_count": null,
   "metadata": {},
   "outputs": [],
   "source": []
  },
  {
   "cell_type": "code",
   "execution_count": 1,
   "metadata": {},
   "outputs": [],
   "source": [
    "def describe_pet(animal_type,pet_name):\n",
    "    \"\"\"Dispaly information about pet\"\"\"\n",
    "    print(f\"\\n I have a{animal_type}\")\n",
    "    print(f\" my{animal_type}'s name is {pet_name}\")"
   ]
  },
  {
   "cell_type": "code",
   "execution_count": 3,
   "metadata": {},
   "outputs": [
    {
     "name": "stdout",
     "output_type": "stream",
     "text": [
      "\n",
      " I have aCat\n",
      " myCat's name is Burno\n"
     ]
    }
   ],
   "source": [
    "describe_pet('Cat','Burno')"
   ]
  },
  {
   "cell_type": "code",
   "execution_count": 4,
   "metadata": {},
   "outputs": [
    {
     "name": "stdout",
     "output_type": "stream",
     "text": [
      "\n",
      " I have arex\n",
      " myrex's name is dog\n"
     ]
    }
   ],
   "source": [
    "describe_pet('rex','dog')# wrong way "
   ]
  },
  {
   "cell_type": "code",
   "execution_count": 16,
   "metadata": {},
   "outputs": [],
   "source": [
    "def describe_pet(pet_name,animal_type='dog'):\n",
    "    \"\"\"Dispaly information about pet\"\"\"\n",
    "    print(f\" I have a {animal_type}\")\n",
    "    print(f\" my {animal_type}'s name is {pet_name}\")\n",
    "    "
   ]
  },
  {
   "cell_type": "code",
   "execution_count": 19,
   "metadata": {},
   "outputs": [
    {
     "name": "stdout",
     "output_type": "stream",
     "text": [
      " I have a cat\n",
      " my cat's name is snowball\n"
     ]
    }
   ],
   "source": [
    "describe_pet('snowball','cat')"
   ]
  },
  {
   "cell_type": "code",
   "execution_count": 20,
   "metadata": {},
   "outputs": [
    {
     "name": "stdout",
     "output_type": "stream",
     "text": [
      " I have a dog\n",
      " my dog's name is rex\n"
     ]
    }
   ],
   "source": [
    "describe_pet('rex','dog')"
   ]
  },
  {
   "cell_type": "code",
   "execution_count": 27,
   "metadata": {},
   "outputs": [],
   "source": [
    "def describe_food(declious,food_type):\n",
    "    \"\"\"Display food types\"\"\"\n",
    "    print(f\" my favourite food {declious}\")\n",
    "    print(f\" It's {food_type} food\")"
   ]
  },
  {
   "cell_type": "code",
   "execution_count": 31,
   "metadata": {},
   "outputs": [
    {
     "name": "stdout",
     "output_type": "stream",
     "text": [
      " my favourite food Briyani\n",
      " It southindian food\n"
     ]
    }
   ],
   "source": [
    "describe_food('Briyani','southindian')"
   ]
  },
  {
   "cell_type": "code",
   "execution_count": 47,
   "metadata": {},
   "outputs": [],
   "source": [
    "\n",
    "def des_frnd(name,profesion):\n",
    "    \"\"\"des frnd\"\"\"\n",
    "    print(f\"I have a frnd {name}\")\n",
    "    print(f\" he is a {profesion}\")\n",
    "    "
   ]
  },
  {
   "cell_type": "code",
   "execution_count": 48,
   "metadata": {},
   "outputs": [
    {
     "name": "stdout",
     "output_type": "stream",
     "text": [
      "I have a frnd srikanth\n",
      " he is a Teacher\n"
     ]
    }
   ],
   "source": [
    "des_frnd('srikanth','Teacher')"
   ]
  },
  {
   "cell_type": "code",
   "execution_count": 54,
   "metadata": {},
   "outputs": [],
   "source": [
    "def make_pizza(*topping):\n",
    "    \"\"\"Taking the orders\"\"\"\n",
    "    print(topping)"
   ]
  },
  {
   "cell_type": "code",
   "execution_count": 55,
   "metadata": {},
   "outputs": [
    {
     "name": "stdout",
     "output_type": "stream",
     "text": [
      "('corn',)\n"
     ]
    }
   ],
   "source": [
    "make_pizza('corn')"
   ]
  },
  {
   "cell_type": "code",
   "execution_count": 56,
   "metadata": {},
   "outputs": [
    {
     "name": "stdout",
     "output_type": "stream",
     "text": [
      "('corn', 'onion')\n"
     ]
    }
   ],
   "source": [
    "make_pizza('corn','onion')"
   ]
  },
  {
   "cell_type": "code",
   "execution_count": 58,
   "metadata": {},
   "outputs": [
    {
     "name": "stdout",
     "output_type": "stream",
     "text": [
      "('corn', 'onion', 'potato', 'tomato')\n",
      "('chesse', 'chicken')\n",
      "('periperi', 'oregano')\n"
     ]
    }
   ],
   "source": [
    "make_pizza('corn','onion','potato','tomato')\n",
    "make_pizza('chesse','chicken')\n",
    "make_pizza('periperi','oregano')"
   ]
  },
  {
   "cell_type": "code",
   "execution_count": null,
   "metadata": {},
   "outputs": [],
   "source": [
    "Indrouction to Python:\n",
    "    class- high level blue print\n",
    "    method- a function wriiten inside a class \n",
    "    attribute - a varible inside the calss\n",
    "    self - Temp place holder\n",
    "    object-"
   ]
  },
  {
   "cell_type": "code",
   "execution_count": 80,
   "metadata": {},
   "outputs": [],
   "source": [
    "class User:\n",
    "    \"\"\"Display simple user\"\"\"\n",
    "    \n",
    "    \n",
    "def createname(self,name):\n",
    "    self.name= name\n",
    "    \n",
    "def dispalyname(self):\n",
    "    print(f\"{self.name} is now dispalying on screen\")\n",
    "    \n",
    "    \n",
    "def greetname(self):\n",
    "    print(f\" wellcome back , good to see you {self.name}\")"
   ]
  },
  {
   "cell_type": "code",
   "execution_count": 81,
   "metadata": {},
   "outputs": [],
   "source": [
    "test=User()"
   ]
  },
  {
   "cell_type": "code",
   "execution_count": 82,
   "metadata": {},
   "outputs": [
    {
     "ename": "AttributeError",
     "evalue": "'User' object has no attribute 'createname'",
     "output_type": "error",
     "traceback": [
      "\u001b[1;31m---------------------------------------------------------------------------\u001b[0m",
      "\u001b[1;31mAttributeError\u001b[0m                            Traceback (most recent call last)",
      "\u001b[1;32m<ipython-input-82-eba0e89f0d9e>\u001b[0m in \u001b[0;36m<module>\u001b[1;34m\u001b[0m\n\u001b[1;32m----> 1\u001b[1;33m \u001b[0mtest\u001b[0m\u001b[1;33m.\u001b[0m\u001b[0mcreatename\u001b[0m\u001b[1;33m(\u001b[0m\u001b[1;34m'Bhagya'\u001b[0m\u001b[1;33m)\u001b[0m\u001b[1;33m\u001b[0m\u001b[1;33m\u001b[0m\u001b[0m\n\u001b[0m",
      "\u001b[1;31mAttributeError\u001b[0m: 'User' object has no attribute 'createname'"
     ]
    }
   ],
   "source": [
    "test.createname('Bhagya')"
   ]
  },
  {
   "cell_type": "code",
   "execution_count": null,
   "metadata": {},
   "outputs": [],
   "source": []
  },
  {
   "cell_type": "code",
   "execution_count": null,
   "metadata": {},
   "outputs": [],
   "source": []
  },
  {
   "cell_type": "code",
   "execution_count": null,
   "metadata": {},
   "outputs": [],
   "source": []
  },
  {
   "cell_type": "code",
   "execution_count": null,
   "metadata": {},
   "outputs": [],
   "source": []
  },
  {
   "cell_type": "code",
   "execution_count": null,
   "metadata": {},
   "outputs": [],
   "source": []
  },
  {
   "cell_type": "code",
   "execution_count": null,
   "metadata": {},
   "outputs": [],
   "source": []
  },
  {
   "cell_type": "code",
   "execution_count": null,
   "metadata": {},
   "outputs": [],
   "source": []
  },
  {
   "cell_type": "code",
   "execution_count": null,
   "metadata": {},
   "outputs": [],
   "source": []
  },
  {
   "cell_type": "code",
   "execution_count": null,
   "metadata": {},
   "outputs": [],
   "source": []
  },
  {
   "cell_type": "code",
   "execution_count": null,
   "metadata": {},
   "outputs": [],
   "source": []
  },
  {
   "cell_type": "code",
   "execution_count": null,
   "metadata": {},
   "outputs": [],
   "source": []
  },
  {
   "cell_type": "code",
   "execution_count": null,
   "metadata": {},
   "outputs": [],
   "source": []
  },
  {
   "cell_type": "code",
   "execution_count": null,
   "metadata": {},
   "outputs": [],
   "source": []
  },
  {
   "cell_type": "code",
   "execution_count": null,
   "metadata": {},
   "outputs": [],
   "source": []
  }
 ],
 "metadata": {
  "kernelspec": {
   "display_name": "Python 3",
   "language": "python",
   "name": "python3"
  },
  "language_info": {
   "codemirror_mode": {
    "name": "ipython",
    "version": 3
   },
   "file_extension": ".py",
   "mimetype": "text/x-python",
   "name": "python",
   "nbconvert_exporter": "python",
   "pygments_lexer": "ipython3",
   "version": "3.7.3"
  }
 },
 "nbformat": 4,
 "nbformat_minor": 4
}

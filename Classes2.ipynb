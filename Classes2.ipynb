{
 "cells": [
  {
   "cell_type": "code",
   "execution_count": 1,
   "metadata": {},
   "outputs": [],
   "source": [
    "class User:\n",
    "    \"\"\"Dispaly a simple user class\"\"\"\n",
    "    \n",
    "    \n",
    "def createname(self,name):\n",
    "        selfname=name\n",
    "        \n",
    "def displayname(self):\n",
    "        print(f\"{self.name} is displaying on the screen\")\n",
    "        \n",
    "def greetname(self):\n",
    "        print(f\" welcome back {self,name}\")"
   ]
  },
  {
   "cell_type": "code",
   "execution_count": 69,
   "metadata": {},
   "outputs": [],
   "source": []
  },
  {
   "cell_type": "code",
   "execution_count": 70,
   "metadata": {},
   "outputs": [],
   "source": [
    "test.createname('bhagya')"
   ]
  },
  {
   "cell_type": "code",
   "execution_count": null,
   "metadata": {},
   "outputs": [],
   "source": []
  },
  {
   "cell_type": "code",
   "execution_count": 47,
   "metadata": {},
   "outputs": [],
   "source": [
    "class Dog:\n",
    "    \"\"\"A simple attempt to model a dog\"\"\"\n",
    "    \n",
    "    \n",
    "    def __init__(self,name,age):\n",
    "        \"\"\"initial name and age attribute\"\"\"\n",
    "        self.name = name\n",
    "        self.age = age\n",
    "        print('it got executed')\n",
    "        \n",
    "    def sit(self):\n",
    "            \"\"\" simulate a Dog sitting in response to a command\"\"\"\n",
    "            print(f\"{self.name} is now sitting\")\n",
    "            \n",
    "    def sleep(self):\n",
    "            \"\"\"Simulate a sleeping response to command\"\"\"\n",
    "            print(f\"{self.name} is now sleeping\")\n",
    "            \n",
    "    def roll_over(self):\n",
    "            \"\"\" simulate a Roll over in response to a comand\"\"\"\n",
    "            print(f\" {self.name} is now rolling over\")"
   ]
  },
  {
   "cell_type": "code",
   "execution_count": 48,
   "metadata": {},
   "outputs": [
    {
     "name": "stdout",
     "output_type": "stream",
     "text": [
      "it got executed\n"
     ]
    }
   ],
   "source": [
    "test = Dog('rex',5)"
   ]
  },
  {
   "cell_type": "code",
   "execution_count": 49,
   "metadata": {},
   "outputs": [
    {
     "name": "stdout",
     "output_type": "stream",
     "text": [
      "rex is now sitting\n"
     ]
    }
   ],
   "source": [
    "\n",
    "test.sit()"
   ]
  },
  {
   "cell_type": "code",
   "execution_count": 50,
   "metadata": {},
   "outputs": [
    {
     "name": "stdout",
     "output_type": "stream",
     "text": [
      "rex is now sleeping\n"
     ]
    }
   ],
   "source": [
    "test.sleep()"
   ]
  },
  {
   "cell_type": "code",
   "execution_count": 51,
   "metadata": {},
   "outputs": [
    {
     "name": "stdout",
     "output_type": "stream",
     "text": [
      " rex is now rolling over\n"
     ]
    }
   ],
   "source": [
    "test.roll_over()"
   ]
  },
  {
   "cell_type": "code",
   "execution_count": 78,
   "metadata": {},
   "outputs": [],
   "source": [
    "class Computers:\n",
    "    \"\"\"A simple method to create a type of a computer\"\"\"\n",
    "    \n",
    "def __init__(self,cpu):\n",
    "    \"\"\"intializing  cpu attributes\"\"\"\n",
    "    self.cpu=cpu\n",
    "    \n",
    "def cpu(self):\n",
    "    \"\"\"What type of a Computer\"\"\"\n",
    "    print(f\"{self.cpu} which type of a computer\")"
   ]
  },
  {
   "cell_type": "code",
   "execution_count": 80,
   "metadata": {},
   "outputs": [
    {
     "ename": "NameError",
     "evalue": "name 'Computer' is not defined",
     "output_type": "error",
     "traceback": [
      "\u001b[1;31m---------------------------------------------------------------------------\u001b[0m",
      "\u001b[1;31mNameError\u001b[0m                                 Traceback (most recent call last)",
      "\u001b[1;32m<ipython-input-80-44ec9ce8ab60>\u001b[0m in \u001b[0;36m<module>\u001b[1;34m\u001b[0m\n\u001b[1;32m----> 1\u001b[1;33m \u001b[0mtest\u001b[0m \u001b[1;33m=\u001b[0m \u001b[0mComputer\u001b[0m\u001b[1;33m(\u001b[0m\u001b[1;36m15\u001b[0m\u001b[1;33m,\u001b[0m\u001b[1;36m16\u001b[0m\u001b[1;33m)\u001b[0m\u001b[1;33m\u001b[0m\u001b[1;33m\u001b[0m\u001b[0m\n\u001b[0m",
      "\u001b[1;31mNameError\u001b[0m: name 'Computer' is not defined"
     ]
    }
   ],
   "source": [
    "test = Computer(15,16)"
   ]
  },
  {
   "cell_type": "code",
   "execution_count": null,
   "metadata": {},
   "outputs": [],
   "source": []
  },
  {
   "cell_type": "code",
   "execution_count": null,
   "metadata": {},
   "outputs": [],
   "source": []
  },
  {
   "cell_type": "code",
   "execution_count": null,
   "metadata": {},
   "outputs": [],
   "source": []
  },
  {
   "cell_type": "code",
   "execution_count": null,
   "metadata": {},
   "outputs": [],
   "source": []
  },
  {
   "cell_type": "code",
   "execution_count": null,
   "metadata": {},
   "outputs": [],
   "source": []
  },
  {
   "cell_type": "code",
   "execution_count": null,
   "metadata": {},
   "outputs": [],
   "source": []
  },
  {
   "cell_type": "code",
   "execution_count": null,
   "metadata": {},
   "outputs": [],
   "source": []
  },
  {
   "cell_type": "code",
   "execution_count": null,
   "metadata": {},
   "outputs": [],
   "source": []
  },
  {
   "cell_type": "code",
   "execution_count": null,
   "metadata": {},
   "outputs": [],
   "source": []
  }
 ],
 "metadata": {
  "kernelspec": {
   "display_name": "Python 3",
   "language": "python",
   "name": "python3"
  },
  "language_info": {
   "codemirror_mode": {
    "name": "ipython",
    "version": 3
   },
   "file_extension": ".py",
   "mimetype": "text/x-python",
   "name": "python",
   "nbconvert_exporter": "python",
   "pygments_lexer": "ipython3",
   "version": "3.7.3"
  }
 },
 "nbformat": 4,
 "nbformat_minor": 4
}
